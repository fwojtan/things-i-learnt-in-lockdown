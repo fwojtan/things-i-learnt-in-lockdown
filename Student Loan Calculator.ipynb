{
 "cells": [
  {
   "cell_type": "markdown",
   "metadata": {},
   "source": [
    "# Student Loan Calculator (WIP)\n",
    "\n",
    "I wanted to build something useful whilst learning more about pandas and ipy widgets... \n",
    "\n",
    "Is it worth repaying a student loan faster than necessary??\n",
    "\n",
    "#### INSTRUCTIONS:\n",
    "-Click Cell -> Run all \n",
    "\n",
    "-Use sliders to change variables and see what combinations work well. The main points of interest would probably be starting salary, loan value, overpay value and overpay duration."
   ]
  },
  {
   "cell_type": "code",
   "execution_count": null,
   "metadata": {},
   "outputs": [],
   "source": [
    "import pandas as pd\n",
    "import numpy as np\n",
    "from matplotlib import pyplot as plt\n",
    "import ipywidgets as widgets\n",
    "import matplotlib\n",
    "\n",
    "#%matplotlib notebook"
   ]
  },
  {
   "cell_type": "code",
   "execution_count": null,
   "metadata": {},
   "outputs": [],
   "source": [
    "df = pd.DataFrame(columns=['Year', 'Salary', 'Tax', 'Outstanding_Loan', 'Forced Repayment', 'Voluntary Repayment', 'Net Salary', 'Loan Interest', 'Plan 2 Loan', 'Plan 2 Forced', 'Plan 2 Net'])\n",
    "df.Year = range(30)\n"
   ]
  },
  {
   "cell_type": "code",
   "execution_count": 13,
   "metadata": {},
   "outputs": [],
   "source": [
    "### one big function to recalculate everything when parameters are updated\n",
    "\n",
    "def calculate_values(initial_salary, initial_loan, inflation, tax_free_allowance, low_tax_rate, low_tax_band, mid_tax_rate, \n",
    "                     mid_tax_band, high_tax_rate, repay_rate, repay_thresh, payrise, rise_interval, voluntary_value, \n",
    "                     voluntary_duration):\n",
    "    \n",
    "    yearly_salary = np.zeros(len(df))\n",
    "    yearly_salary[0] = initial_salary\n",
    "    for i in range(len(yearly_salary)-1):\n",
    "        yearly_salary[i+1] = yearly_salary[i] * (1+inflation)\n",
    "\n",
    "        ## come back and make this salary boost customizeable\n",
    "        if i % rise_interval == 0 and i !=0:\n",
    "            yearly_salary[i+1] += payrise\n",
    "\n",
    "    df.Salary = yearly_salary\n",
    "\n",
    "    ## should really fix this to take account of all three tax bands\n",
    "    df.Tax = np.where(df['Salary'] >= 50000, (df.Salary - tax_free_allowance) * 0.4, (df.Salary - tax_free_allowance) * 0.2)\n",
    "    df.loc[0, 'Outstanding_Loan'] = initial_loan\n",
    "    df.loc[0, 'Plan 2 Loan'] = initial_loan\n",
    "\n",
    "    # setup how much we want to repay voluntarily\n",
    "    voluntary = np.zeros(len(df))\n",
    "    for i in range(voluntary_duration):\n",
    "        voluntary[i] = voluntary_value\n",
    "    df['Voluntary Repayment'] = voluntary\n",
    "\n",
    "    forced = np.ones(len(df)) * 1000\n",
    "    paidoff = False\n",
    "    plan2paidoff = False\n",
    "    plan2forced = np.ones(len(df)) * 1000\n",
    "    \n",
    "    # setup a loop to populate the dataframe with dependent values\n",
    "    for i in range(len(df)):\n",
    "        \n",
    "        \n",
    "        # sort out how much interest is charged each year\n",
    "        if df.loc[i, 'Salary'] < 26575:\n",
    "            df.loc[i, 'Loan Interest'] = inflation + 1\n",
    "        elif df.loc[i, 'Salary'] < 47835:\n",
    "            df.loc[i, 'Loan Interest'] = 1 + inflation +  (df.loc[i, 'Salary'] - 26575) * 0.03 / 21260\n",
    "        else:\n",
    "            df.loc[i, 'Loan Interest'] = inflation + 1.03\n",
    "\n",
    "\n",
    "        # calculate the mandatory repayment amount if it's non negative\n",
    "\n",
    "        if (df.loc[i, 'Salary'] > repay_thresh) and not paidoff:\n",
    "            forced[i] = (df.loc[i, 'Salary'] - repay_thresh) * repay_rate\n",
    "            df['Forced Repayment'] = forced\n",
    "        else:\n",
    "            df.loc[i, 'Forced Repayment'] = 0\n",
    "            \n",
    "        if (df.loc[i, 'Salary'] > repay_thresh) and not plan2paidoff:\n",
    "            plan2forced[i] = (df.loc[i, 'Salary'] - repay_thresh) * repay_rate\n",
    "            df['Plan 2 Forced'] = plan2forced\n",
    "        else:\n",
    "            df.loc[i, 'Plan 2 Forced'] = 0\n",
    "\n",
    "        # multiply loan by interest rate\n",
    "        df.loc[i, 'Outstanding_Loan'] *= df['Loan Interest'][i]\n",
    "        df.loc[i, 'Plan 2 Loan'] *= df['Loan Interest'][i]\n",
    "\n",
    "        # reduce debt by amount repaid\n",
    "        if not paidoff:\n",
    "            if df.loc[i, 'Outstanding_Loan'] - df['Forced Repayment'][i] - df['Voluntary Repayment'][i] > 0:\n",
    "                df.loc[i+1, 'Outstanding_Loan'] = df.loc[i, 'Outstanding_Loan'] - df['Forced Repayment'][i] - df['Voluntary Repayment'][i]\n",
    "            else:\n",
    "                df.loc[i, 'Forced Repayment'] = df.loc[i, 'Outstanding_Loan'] - df['Voluntary Repayment'][i]\n",
    "                paidoff = True\n",
    "                df.loc[i+1, 'Outstanding_Loan'] = 0\n",
    "        else:\n",
    "            df.loc[i, 'Outstanding_Loan'] = 0\n",
    "            \n",
    "        if not plan2paidoff:\n",
    "            if df.loc[i, 'Plan 2 Loan'] - df['Plan 2 Forced'][i] > 0:\n",
    "                df.loc[i+1, 'Plan 2 Loan'] = df.loc[i, 'Plan 2 Loan'] - df['Plan 2 Forced'][i]\n",
    "            else:\n",
    "                df.loc[i, 'Plan 2 Forced'] = df.loc[i, 'Plan 2 Loan']\n",
    "                plan2paidoff = True\n",
    "                df.loc[i+1, 'Plan 2 Loan'] = 0\n",
    "        else:\n",
    "            df.loc[i, 'Plan 2 Loan'] = 0\n",
    "\n",
    "        # calculate net salary for the current year by subtracting tax and repayments\n",
    "        df.loc[i, 'Net Salary'] = df.loc[i, 'Salary'] - df['Tax'][i] - df['Forced Repayment'][i] - df['Voluntary Repayment'][i]\n",
    "        df.loc[i, 'Plan 2 Net'] = df.loc[i, 'Salary'] - df['Tax'][i] - df['Plan 2 Forced'][i]\n",
    "        \n",
    "    # calculate lifetime repayments\n",
    "    \n",
    "    plan1_tot = df['Forced Repayment'].sum() + df['Voluntary Repayment'].sum()\n",
    "    plan2_tot = df['Plan 2 Forced'].sum()\n",
    "    if plan1_tot < plan2_tot:\n",
    "        bar_colour = 'lawngreen'\n",
    "    elif plan1_tot == plan2_tot:\n",
    "        bar_colour = 'darkgrey'\n",
    "    else:\n",
    "        bar_colour = 'red'\n",
    "        \n",
    "    fig = plt.figure(figsize=[16,9])\n",
    "    gs = matplotlib.gridspec.GridSpec(1, 2, width_ratios=[3, 1], wspace=0) \n",
    "    ax0 = plt.subplot(gs[0])\n",
    "    ax0.plot(df.Year, df['Plan 2 Loan'], color='blue', label='No Repayments Debt')\n",
    "    ax0.plot(df.Year, df['Plan 2 Net'], color='blue', ls='--', label='No Repayments Net Salary')\n",
    "    ax0.plot(df.Year, df['Outstanding_Loan'], color='orange', label='Extra Repayments Debt')\n",
    "    ax0.plot(df.Year, df['Net Salary'], color='orange', ls='--', label='Extra Repayments Net Salary')\n",
    "    plt.ylabel('Loan/Salary (£)')\n",
    "    plt.xlabel('Years from graduation')\n",
    "    plt.legend()\n",
    "    ax1 = plt.subplot(gs[1])\n",
    "    ax1.tick_params(axis='y', left=False, right=True, labelleft=False, labelright=True)\n",
    "    ax1.bar(['With Repayments', 'Without'] , [plan1_tot,plan2_tot], color=bar_colour)\n",
    "    plt.ylabel('Total Lifetime Cost')\n",
    "    #plt.legend()\n",
    "    plt.show()"
   ]
  },
  {
   "cell_type": "code",
   "execution_count": 14,
   "metadata": {},
   "outputs": [
    {
     "data": {
      "application/vnd.jupyter.widget-view+json": {
       "model_id": "664108d6c8164735a65f851ae9f62647",
       "version_major": 2,
       "version_minor": 0
      },
      "text/plain": [
       "VBox(children=(HBox(children=(IntSlider(value=36000, continuous_update=False, description='Initial Salary', ma…"
      ]
     },
     "metadata": {},
     "output_type": "display_data"
    },
    {
     "data": {
      "application/vnd.jupyter.widget-view+json": {
       "model_id": "8b2128d475544057b275d31ab221d6c6",
       "version_major": 2,
       "version_minor": 0
      },
      "text/plain": [
       "Output()"
      ]
     },
     "metadata": {},
     "output_type": "display_data"
    }
   ],
   "source": [
    "initial_salary = widgets.IntSlider(value=36000, min=0, max=100000, step=50, continuous_update=False, description='Initial Salary')\n",
    "initial_loan = widgets.FloatSlider(value=43186.95,min=0.0, max=100000, step=0.5, continuous_update=False, description='Loan Value')\n",
    "inflation = widgets.FloatSlider(value=0.0202,min=0.0,max=0.15,step=0.002,continuous_update=False, description='Inflation Rate')\n",
    "tax_free_allowance = widgets.IntSlider(value=12500,min=0,max=50000,step=50,continuous_update=False, description='No Tax Thrsh')\n",
    "low_tax_rate = widgets.FloatSlider(value=0.2,min=0.0,max=1.0,step=0.01,continuous_update=False, description='Lo Tax Rate')\n",
    "low_tax_band = widgets.IntSlider(value=50000, min=0, max=200000, step=50, continuous_update=False, description='Lo Tax Thrsh')\n",
    "mid_tax_rate = widgets.FloatSlider(value=0.4,min=0.0,max=1.0,step=0.01,continuous_update=False, description='Md Tax Rate')\n",
    "mid_tax_band = widgets.IntSlider(value=150000, min=0, max=200000, step=50, continuous_update=False, description='Md Tax Thrsh')\n",
    "high_tax_rate = widgets.FloatSlider(value=0.45,min=0.0,max=1.0,step=0.01,continuous_update=False, description='Hi Tax Rate')\n",
    "repay_rate = widgets.FloatSlider(value=0.09,min=0.0,max=1.0,step=0.01,continuous_update=False, description='Repay Rate')\n",
    "repay_thresh = widgets.IntSlider(value=26568,min=0, max=50000, step=1, continuous_update=False, description='Repay Thrsh')\n",
    "payrise = widgets.IntSlider(value=3000, min=0, max=15000, step=5, continuous_update=False, description='Payrise Val')\n",
    "rise_interval = widgets.IntSlider(value=5, min=1, max=30, step=1, continuous_update=False, description='Rise Interval')\n",
    "voluntary_value = widgets.IntSlider(value=0, min=0, max=50000, step=5, continuous_update=False, description='Overpay Val')\n",
    "voluntary_duration = widgets.IntSlider(value=5, min=1, max=30, step=1, continuous_update=False, description='Overpay Dur')\n",
    "\n",
    "lvl1 = widgets.HBox([initial_salary, initial_loan, repay_rate])\n",
    "lvl2 = widgets.HBox([inflation, tax_free_allowance, repay_thresh])\n",
    "lvl3 = widgets.HBox([low_tax_rate, low_tax_band, voluntary_value])\n",
    "lvl4 = widgets.HBox([mid_tax_rate, mid_tax_band, voluntary_duration])\n",
    "lvl5 = widgets.HBox([high_tax_rate, payrise, rise_interval])\n",
    "                                       \n",
    "ui = widgets.VBox([lvl1, lvl2, lvl3, lvl4, lvl5])\n",
    "                                       \n",
    "out = widgets.interactive_output(calculate_values, {'initial_salary':initial_salary, 'initial_loan':initial_loan, \n",
    "        'inflation':inflation, 'tax_free_allowance':tax_free_allowance, 'low_tax_rate':low_tax_rate, 'low_tax_band':low_tax_band,\n",
    "        'mid_tax_rate':mid_tax_rate, 'mid_tax_band':mid_tax_band, 'high_tax_rate':high_tax_rate, 'repay_rate':repay_rate, \n",
    "        'repay_thresh':repay_thresh, 'payrise':payrise, 'rise_interval':rise_interval, 'voluntary_value':voluntary_value, \n",
    "                                                    'voluntary_duration':voluntary_duration})\n",
    "                                       \n",
    "display(ui, out)"
   ]
  },
  {
   "cell_type": "code",
   "execution_count": 16,
   "metadata": {
    "scrolled": true
   },
   "outputs": [
    {
     "data": {
      "text/html": [
       "\n",
       "<style>\n",
       ".output_png {\n",
       "    display: table-cell;\n",
       "    text-align: center;\n",
       "    vertical-align: middle;\n",
       "}\n",
       "div.input {\n",
       "    display:none;\n",
       "}\n",
       "</style>\n"
      ],
      "text/plain": [
       "<IPython.core.display.HTML object>"
      ]
     },
     "execution_count": 16,
     "metadata": {},
     "output_type": "execute_result"
    }
   ],
   "source": [
    "## This cheeky bit of formatting hides all the code which is niiiiceee\n",
    "\n",
    "from IPython.core.display import HTML\n",
    "HTML(\"\"\"\n",
    "<style>\n",
    ".output_png {\n",
    "    display: table-cell;\n",
    "    text-align: center;\n",
    "    vertical-align: middle;\n",
    "}\n",
    "div.input {\n",
    "    display:none;\n",
    "}\n",
    "</style>\n",
    "\"\"\")"
   ]
  },
  {
   "cell_type": "code",
   "execution_count": null,
   "metadata": {},
   "outputs": [],
   "source": []
  }
 ],
 "metadata": {
  "kernelspec": {
   "display_name": "Python 3",
   "language": "python",
   "name": "python3"
  },
  "language_info": {
   "codemirror_mode": {
    "name": "ipython",
    "version": 3
   },
   "file_extension": ".py",
   "mimetype": "text/x-python",
   "name": "python",
   "nbconvert_exporter": "python",
   "pygments_lexer": "ipython3",
   "version": "3.8.1"
  }
 },
 "nbformat": 4,
 "nbformat_minor": 4
}
