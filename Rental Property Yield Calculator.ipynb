{
 "cells": [
  {
   "cell_type": "code",
   "execution_count": 105,
   "metadata": {},
   "outputs": [],
   "source": [
    "from matplotlib import pyplot as plt\n",
    "import numpy as np\n",
    "import ipywidgets as widgets\n",
    "import pandas as pd\n",
    "import matplotlib"
   ]
  },
  {
   "cell_type": "markdown",
   "metadata": {},
   "source": [
    "Deposit\n",
    "\n",
    "Mortgage\n",
    "\n",
    "Slider to control size of each\n",
    "\n",
    "Graph over time\n",
    "\n",
    "Income is the key part and yield\n",
    "\n",
    "Interest Rate Vary"
   ]
  },
  {
   "cell_type": "code",
   "execution_count": 135,
   "metadata": {},
   "outputs": [],
   "source": [
    "def find_data(no_years, deposit_value, property_value, rental_income, \n",
    "              interest_rate, yearly_upkeep, extra_time = 0):\n",
    "    mortgage_value = property_value - deposit_value\n",
    "    array = np.arange(1, no_years+2+extra_time)\n",
    "    income = np.ones(no_years+1+extra_time) * rental_income\n",
    "    income[0] = 0\n",
    "    \n",
    "    \n",
    "    mortgage_repayment = (mortgage_value * (1+interest_rate) ** no_years) / no_years\n",
    "    costs = np.ones(no_years+1+extra_time) * (yearly_upkeep + mortgage_repayment)\n",
    "    costs[0] = deposit_value\n",
    "    \n",
    "    repay = np.ones(no_years+1+extra_time) * mortgage_repayment\n",
    "    repay[0] = 0\n",
    "    \n",
    "    \n",
    "    df = pd.DataFrame(columns=['Year', 'Rental Income', 'Costs', 'Debt', 'Repay', 'Effective Debt', 'Sign', 'Bar_Top', 'Yearly', 'Yrsign'])\n",
    "    df.Year = array\n",
    "    df.Repay = repay\n",
    "    df['Rental Income'] = income\n",
    "    df['Costs'] = costs\n",
    "    df.at[0, 'Debt'] = mortgage_value\n",
    "    df.at[0, 'Effective Debt'] = mortgage_value + deposit_value\n",
    "    repaid=False\n",
    "    for i in range(len(df)-1):\n",
    "        if not repaid:\n",
    "            if ((1 + interest_rate) * df.loc[i, 'Debt']) - df.loc[i, 'Repay'] < 0:\n",
    "                df.loc[i+1, 'Debt'] = 0\n",
    "                df.loc[i, 'Repay'] = df.loc[i, 'Debt']\n",
    "                df.loc[i, 'Costs'] = yearly_upkeep + df.loc[i, 'Repay']\n",
    "                repaid = True\n",
    "                \n",
    "            else:\n",
    "                df.loc[i+1, 'Debt'] = ((1 + interest_rate) * df.loc[i, 'Debt']) - df.loc[i, 'Repay']\n",
    "                \n",
    "            df.loc[i+1, 'Effective Debt'] = ((df.loc[i, 'Effective Debt'] + interest_rate * df.loc[i, 'Debt']) - df.loc[i, 'Repay'])\n",
    "        else:\n",
    "            df.loc[i+1, 'Debt'] = 0\n",
    "            df.loc[i, 'Repay'] = 0\n",
    "            df.loc[i, 'Costs'] = yearly_upkeep\n",
    "            df.loc[i+1, 'Effective Debt'] = df.loc[i, 'Effective Debt'] - df.loc[i, 'Rental Income']\n",
    "            \n",
    "        if df.loc[i, 'Effective Debt'] > 0:\n",
    "            df.loc[i, 'Sign'] = 'orange'\n",
    "        else:\n",
    "            df.loc[i, 'Sign'] = 'lime'\n",
    "            \n",
    "        df.loc[i, 'Bar_Top'] = abs(df.loc[i, 'Debt'] - df.loc[i, 'Effective Debt'])\n",
    "        df.loc[i, 'Yearly'] = df.loc[i, 'Rental Income'] - df.loc[i, 'Costs']\n",
    "        \n",
    "        if df.loc[i, 'Yearly'] > 0:\n",
    "            df.loc[i, 'Yrsign'] = 'lime'\n",
    "\n",
    "        else:\n",
    "            df.loc[i, 'Yrsign'] = 'red'\n",
    "        \n",
    "    if repaid:\n",
    "        df.at[len(df)-1, 'Costs'] = yearly_upkeep\n",
    "        df.at[len(df)-1, 'Repay'] = 0\n",
    "        df.at[len(df)-1, 'Effective Debt'] = df.at[len(df)-2, 'Effective Debt'] - df.at[len(df)-1, 'Rental Income']\n",
    "        \n",
    "    if df.loc[len(df)-1, 'Effective Debt'] > 0:\n",
    "        df.loc[len(df)-1, 'Sign'] = 'orange'\n",
    "    else:\n",
    "        df.loc[len(df)-1, 'Sign'] = 'lime'\n",
    "    df.loc[len(df)-1, 'Yearly'] = df.loc[len(df)-1, 'Rental Income'] - df.loc[len(df)-1, 'Costs']\n",
    "    if df.loc[len(df)-1, 'Yearly'] > 0:\n",
    "        df.loc[len(df)-1, 'Yrsign'] = 'lime'\n",
    "    else:\n",
    "        df.loc[len(df)-1, 'Yrsign'] = 'red'\n",
    "    df.loc[len(df)-1, 'Bar_Top'] = abs(df.loc[len(df)-1, 'Debt'] - df.loc[len(df)-1, 'Effective Debt'])\n",
    "    df.loc[len(df)-1, 'Yearly'] = df.loc[len(df)-1, 'Rental Income'] - df.loc[len(df)-1, 'Costs']\n",
    "    \n",
    "    #print(df)\n",
    "    \n",
    "    \n",
    "    \n",
    "    # find yield\n",
    "    total_costs = sum(df.Costs)\n",
    "    property_yield = 100* rental_income / total_costs\n",
    "    \n",
    "    # plot pls\n",
    "    \n",
    "    plt.figure(figsize=[16, 9])\n",
    "    gs = matplotlib.gridspec.GridSpec(2, 1, height_ratios=[4, 1], hspace=0)\n",
    "    ax0=plt.subplot(gs[0])\n",
    "    ax0.bar(df.Year, df.Debt, label='Mortgage')\n",
    "    ax0.bar(df.Year, df.Bar_Top, bottom=df.Debt, color=df.Sign, label='Deposit')\n",
    "    plt.ylabel('Cumulative Debt/Income')\n",
    "    plt.legend()\n",
    "    ax1=plt.subplot(gs[1])\n",
    "    ax1.bar(df.Year, df.Yearly, color=df.Yrsign)\n",
    "    plt.xlabel('Years')\n",
    "    plt.ylabel('Yearly Income')\n",
    "    plt.show()\n",
    "    print('\\n \\n \\n Property yield is: ' + str(property_yield))\n",
    "    \n",
    "#find_data(10, 30000, 150000, 16000, 0.02,1000, extra_time = 6)\n",
    "\n",
    "\n",
    "## ADD FEATURES\n",
    "\n",
    "# Negative income each year adds to 'deposit' bar top stuff\n",
    "# Paying off mortgage leads to missing income not being accounted for properly in payoff year\n"
   ]
  },
  {
   "cell_type": "code",
   "execution_count": 137,
   "metadata": {},
   "outputs": [
    {
     "data": {
      "application/vnd.jupyter.widget-view+json": {
       "model_id": "fe09cc712106465c8b66e49ba998b34c",
       "version_major": 2,
       "version_minor": 0
      },
      "text/plain": [
       "HBox(children=(VBox(children=(IntSlider(value=150000, continuous_update=False, description='Property Val', max…"
      ]
     },
     "metadata": {},
     "output_type": "display_data"
    },
    {
     "data": {
      "application/vnd.jupyter.widget-view+json": {
       "model_id": "390bd21a8fef46a59ebcacaec4b7f3e6",
       "version_major": 2,
       "version_minor": 0
      },
      "text/plain": [
       "Output()"
      ]
     },
     "metadata": {},
     "output_type": "display_data"
    }
   ],
   "source": [
    "no_years = widgets.IntSlider(value=10, min=5, max=50, step=1, description='Term Length', continuous_update=False)\n",
    "property_value = widgets.IntSlider(value=150000, min=0, max=500000, step=1000, description='Property Val', continuous_update=False)\n",
    "deposit_value = widgets.IntSlider(value=30000, min=0, max=150000, step=1000, description='Deposit', continuous_update=False)\n",
    "rental_income = widgets.IntSlider(value=8000, min=0, max=30000, step=500, description='Rental Income', continuous_update=False)\n",
    "interest_rate = widgets.FloatSlider(value=0.02, min=0, max=0.1, step=0.001, description='Interest Rate', continuous_update=False)\n",
    "yearly_upkeep = widgets.IntSlider(value=1000, min=0, max=10000, step=250, description='Maintenance Cost', continuous_update=False)\n",
    "extra_time = widgets.IntSlider(value=5, min=0, max=20, step=1, description='More Years', continuous_update=False)\n",
    "lol = widgets.Label(description='Hello')\n",
    "\n",
    "left = widgets.VBox([property_value, rental_income, yearly_upkeep, extra_time])\n",
    "right = widgets.VBox([deposit_value, no_years, interest_rate, lol])\n",
    "\n",
    "ui = widgets.HBox([left, right])\n",
    "\n",
    "out = widgets.interactive_output(find_data, {'no_years':no_years, 'deposit_value':deposit_value, 'property_value':property_value,\n",
    "                                             'rental_income':rental_income, 'interest_rate':interest_rate, 'yearly_upkeep':yearly_upkeep, \n",
    "                                             'extra_time':extra_time})\n",
    "\n",
    "display(ui, out)"
   ]
  },
  {
   "cell_type": "code",
   "execution_count": null,
   "metadata": {},
   "outputs": [],
   "source": [
    "from IPython.core.display import HTML\n",
    "HTML(\"\"\"\n",
    "<style>\n",
    ".output_png {\n",
    "    display: table-cell;\n",
    "    text-align: center;\n",
    "    vertical-align: middle;\n",
    "}\n",
    "div.input {\n",
    "    display:none;\n",
    "}\n",
    "</style>\n",
    "\"\"\")"
   ]
  },
  {
   "cell_type": "code",
   "execution_count": null,
   "metadata": {},
   "outputs": [],
   "source": []
  }
 ],
 "metadata": {
  "kernelspec": {
   "display_name": "Python 3",
   "language": "python",
   "name": "python3"
  },
  "language_info": {
   "codemirror_mode": {
    "name": "ipython",
    "version": 3
   },
   "file_extension": ".py",
   "mimetype": "text/x-python",
   "name": "python",
   "nbconvert_exporter": "python",
   "pygments_lexer": "ipython3",
   "version": "3.8.1"
  }
 },
 "nbformat": 4,
 "nbformat_minor": 4
}
